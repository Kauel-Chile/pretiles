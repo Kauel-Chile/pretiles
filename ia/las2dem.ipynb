{
 "cells": [
  {
   "cell_type": "code",
   "execution_count": 1,
   "metadata": {},
   "outputs": [],
   "source": [
    "import numpy as np\n",
    "import matplotlib.pyplot as plt\n",
    "from preprocessing import subsample_point_cloud, create_digital_elevation_model"
   ]
  },
  {
   "cell_type": "code",
   "execution_count": 2,
   "metadata": {},
   "outputs": [
    {
     "name": "stdout",
     "output_type": "stream",
     "text": [
      "-117.93866794341011 144.98493205662817\n",
      "-226.38107134588063 309.8839286537841\n",
      "-7.930600739849069 8.81959926015088\n"
     ]
    }
   ],
   "source": [
    "las = subsample_point_cloud('../data/cloud_merged.las', factor=10)\n",
    "\n",
    "# Normalize the point cloud\n",
    "x = las.x - np.mean(las.x)\n",
    "y = las.y - np.mean(las.y)\n",
    "z = las.z - np.mean(las.z)\n",
    "\n",
    "print(np.min(x), np.max(x))\n",
    "print(np.min(y), np.max(y))\n",
    "print(np.min(z), np.max(z))"
   ]
  },
  {
   "cell_type": "code",
   "execution_count": 13,
   "metadata": {},
   "outputs": [
    {
     "ename": "ValueError",
     "evalue": "all the input array dimensions except for the concatenation axis must match exactly, but along dimension 0, the array at index 0 has size 512 and the array at index 1 has size 2256145",
     "output_type": "error",
     "traceback": [
      "\u001b[0;31m---------------------------------------------------------------------------\u001b[0m",
      "\u001b[0;31mValueError\u001b[0m                                Traceback (most recent call last)",
      "Cell \u001b[0;32mIn[13], line 1\u001b[0m\n\u001b[0;32m----> 1\u001b[0m dem, mask \u001b[38;5;241m=\u001b[39m \u001b[43mcreate_digital_elevation_model\u001b[49m\u001b[43m(\u001b[49m\u001b[43mx\u001b[49m\u001b[43m,\u001b[49m\u001b[43my\u001b[49m\u001b[43m,\u001b[49m\u001b[43mz\u001b[49m\u001b[43m,\u001b[49m\u001b[43m \u001b[49m\u001b[43mthreshold_down\u001b[49m\u001b[38;5;241;43m=\u001b[39;49m\u001b[38;5;241;43m-\u001b[39;49m\u001b[38;5;241;43m7\u001b[39;49m\u001b[43m,\u001b[49m\u001b[43m \u001b[49m\u001b[43mthreshold_up\u001b[49m\u001b[38;5;241;43m=\u001b[39;49m\u001b[38;5;241;43m8\u001b[39;49m\u001b[43m)\u001b[49m\n\u001b[1;32m      2\u001b[0m \u001b[38;5;28mprint\u001b[39m(mask\u001b[38;5;241m.\u001b[39mshape)\n\u001b[1;32m      3\u001b[0m \u001b[38;5;66;03m#np.savez_compressed('dem.npz', dem=dem, mask=mask)\u001b[39;00m\n",
      "File \u001b[0;32m~/workspace/pretiles/ia/preprocessing/dem.py:52\u001b[0m, in \u001b[0;36mcreate_digital_elevation_model\u001b[0;34m(x, y, z, size_img, threshold_down, threshold_up, save_img)\u001b[0m\n\u001b[1;32m     41\u001b[0m \u001b[38;5;250m\u001b[39m\u001b[38;5;124;03m\"\"\"\u001b[39;00m\n\u001b[1;32m     42\u001b[0m \u001b[38;5;124;03mCreate a Digital Elevation Model (DEM)\u001b[39;00m\n\u001b[1;32m     43\u001b[0m \u001b[38;5;124;03m:param x, y, z: Coordinates and values of the point cloud.\u001b[39;00m\n\u001b[0;32m   (...)\u001b[0m\n\u001b[1;32m     47\u001b[0m \u001b[38;5;124;03m:return: Interpolated DEM as a numpy array.\u001b[39;00m\n\u001b[1;32m     48\u001b[0m \u001b[38;5;124;03m\"\"\"\u001b[39;00m\n\u001b[1;32m     49\u001b[0m grid_x, grid_y \u001b[38;5;241m=\u001b[39m np\u001b[38;5;241m.\u001b[39mmeshgrid(np\u001b[38;5;241m.\u001b[39mlinspace(np\u001b[38;5;241m.\u001b[39mmin(x), np\u001b[38;5;241m.\u001b[39mmax(x), size_img), \n\u001b[1;32m     50\u001b[0m                             np\u001b[38;5;241m.\u001b[39mlinspace(np\u001b[38;5;241m.\u001b[39mmin(y), np\u001b[38;5;241m.\u001b[39mmax(y), size_img))\n\u001b[0;32m---> 52\u001b[0m z_interp, mask \u001b[38;5;241m=\u001b[39m \u001b[43midw_interpolation\u001b[49m\u001b[43m(\u001b[49m\u001b[43mx\u001b[49m\u001b[43m,\u001b[49m\u001b[43m \u001b[49m\u001b[43my\u001b[49m\u001b[43m,\u001b[49m\u001b[43m \u001b[49m\u001b[43mz\u001b[49m\u001b[43m,\u001b[49m\u001b[43m \u001b[49m\u001b[43mgrid_x\u001b[49m\u001b[43m,\u001b[49m\u001b[43m \u001b[49m\u001b[43mgrid_y\u001b[49m\u001b[43m,\u001b[49m\u001b[43m \u001b[49m\u001b[43mthreshold_down\u001b[49m\u001b[43m,\u001b[49m\u001b[43m \u001b[49m\u001b[43mthreshold_up\u001b[49m\u001b[43m)\u001b[49m\n\u001b[1;32m     54\u001b[0m \u001b[38;5;28;01mif\u001b[39;00m save_img:\n\u001b[1;32m     55\u001b[0m     \u001b[38;5;66;03m# Define the transformation (define the origin and resolution of the DEM)\u001b[39;00m\n\u001b[1;32m     56\u001b[0m     transform \u001b[38;5;241m=\u001b[39m from_origin(np\u001b[38;5;241m.\u001b[39mmin(x), np\u001b[38;5;241m.\u001b[39mmax(y), (np\u001b[38;5;241m.\u001b[39mmax(x) \u001b[38;5;241m-\u001b[39m np\u001b[38;5;241m.\u001b[39mmin(x)) \u001b[38;5;241m/\u001b[39m size_img, (np\u001b[38;5;241m.\u001b[39mmax(y) \u001b[38;5;241m-\u001b[39m np\u001b[38;5;241m.\u001b[39mmin(y)) \u001b[38;5;241m/\u001b[39m size_img)\n",
      "File \u001b[0;32m~/workspace/pretiles/ia/preprocessing/dem.py:17\u001b[0m, in \u001b[0;36midw_interpolation\u001b[0;34m(x, y, z, grid_x, grid_y, threshold_down, threshold_up, power, epsilon)\u001b[0m\n\u001b[1;32m      8\u001b[0m \u001b[38;5;250m\u001b[39m\u001b[38;5;124;03m\"\"\"\u001b[39;00m\n\u001b[1;32m      9\u001b[0m \u001b[38;5;124;03mIDW (Inverse Distance Weighting) Interpolation\u001b[39;00m\n\u001b[1;32m     10\u001b[0m \u001b[38;5;124;03m:param x, y, z: Coordinates and values of the point cloud.\u001b[39;00m\n\u001b[0;32m   (...)\u001b[0m\n\u001b[1;32m     14\u001b[0m \u001b[38;5;124;03m:return: Interpolated value for each point in the grid.\u001b[39;00m\n\u001b[1;32m     15\u001b[0m \u001b[38;5;124;03m\"\"\"\u001b[39;00m\n\u001b[1;32m     16\u001b[0m mean_z \u001b[38;5;241m=\u001b[39m np\u001b[38;5;241m.\u001b[39mmean(z)\n\u001b[0;32m---> 17\u001b[0m tree \u001b[38;5;241m=\u001b[39m cKDTree(\u001b[43mnp\u001b[49m\u001b[38;5;241;43m.\u001b[39;49m\u001b[43mcolumn_stack\u001b[49m\u001b[43m(\u001b[49m\u001b[43m(\u001b[49m\u001b[43mx\u001b[49m\u001b[43m,\u001b[49m\u001b[43m \u001b[49m\u001b[43my\u001b[49m\u001b[43m)\u001b[49m\u001b[43m)\u001b[49m)\n\u001b[1;32m     19\u001b[0m z_interp \u001b[38;5;241m=\u001b[39m np\u001b[38;5;241m.\u001b[39mzeros(grid_x\u001b[38;5;241m.\u001b[39mshape)\n\u001b[1;32m     20\u001b[0m mask \u001b[38;5;241m=\u001b[39m np\u001b[38;5;241m.\u001b[39mones(grid_x\u001b[38;5;241m.\u001b[39mshape)\n",
      "File \u001b[0;32m~/workspace/pretiles/env/lib/python3.10/site-packages/numpy/lib/shape_base.py:652\u001b[0m, in \u001b[0;36mcolumn_stack\u001b[0;34m(tup)\u001b[0m\n\u001b[1;32m    650\u001b[0m         arr \u001b[38;5;241m=\u001b[39m array(arr, copy\u001b[38;5;241m=\u001b[39m\u001b[38;5;28;01mFalse\u001b[39;00m, subok\u001b[38;5;241m=\u001b[39m\u001b[38;5;28;01mTrue\u001b[39;00m, ndmin\u001b[38;5;241m=\u001b[39m\u001b[38;5;241m2\u001b[39m)\u001b[38;5;241m.\u001b[39mT\n\u001b[1;32m    651\u001b[0m     arrays\u001b[38;5;241m.\u001b[39mappend(arr)\n\u001b[0;32m--> 652\u001b[0m \u001b[38;5;28;01mreturn\u001b[39;00m \u001b[43m_nx\u001b[49m\u001b[38;5;241;43m.\u001b[39;49m\u001b[43mconcatenate\u001b[49m\u001b[43m(\u001b[49m\u001b[43marrays\u001b[49m\u001b[43m,\u001b[49m\u001b[43m \u001b[49m\u001b[38;5;241;43m1\u001b[39;49m\u001b[43m)\u001b[49m\n",
      "\u001b[0;31mValueError\u001b[0m: all the input array dimensions except for the concatenation axis must match exactly, but along dimension 0, the array at index 0 has size 512 and the array at index 1 has size 2256145"
     ]
    }
   ],
   "source": [
    "dem, mask = create_digital_elevation_model(x,y,z, threshold_down=-7, threshold_up=8)\n",
    "print(mask.shape)\n",
    "#np.savez_compressed('dem.npz', dem=dem, mask=mask)\n",
    "\n",
    "plt.imshow(dem , cmap='gray')\n",
    "plt.show()\n",
    "plt.imshow(mask, cmap='grey')\n",
    "plt.show()\n"
   ]
  },
  {
   "cell_type": "code",
   "execution_count": 9,
   "metadata": {},
   "outputs": [
    {
     "data": {
      "text/plain": [
       "array([[-0., -0., -0., ..., -0., -0., -0.],\n",
       "       [-0., -0., -0., ..., -0., -0., -0.],\n",
       "       [-0., -0., -0., ..., -0., -0., -0.],\n",
       "       ...,\n",
       "       [-0., -0., -0., ..., -0., -0., -0.],\n",
       "       [-0., -0., -0., ..., -0., -0., -0.],\n",
       "       [-0., -0., -0., ..., -0., -0., -0.]])"
      ]
     },
     "execution_count": 9,
     "metadata": {},
     "output_type": "execute_result"
    }
   ],
   "source": [
    "x"
   ]
  },
  {
   "cell_type": "code",
   "execution_count": null,
   "metadata": {},
   "outputs": [],
   "source": []
  }
 ],
 "metadata": {
  "kernelspec": {
   "display_name": "env",
   "language": "python",
   "name": "python3"
  },
  "language_info": {
   "codemirror_mode": {
    "name": "ipython",
    "version": 3
   },
   "file_extension": ".py",
   "mimetype": "text/x-python",
   "name": "python",
   "nbconvert_exporter": "python",
   "pygments_lexer": "ipython3",
   "version": "3.10.12"
  }
 },
 "nbformat": 4,
 "nbformat_minor": 2
}
