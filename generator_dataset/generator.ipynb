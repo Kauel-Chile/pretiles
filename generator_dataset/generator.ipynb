{
 "cells": [
  {
   "cell_type": "code",
   "execution_count": 10,
   "metadata": {},
   "outputs": [],
   "source": [
    "import os\n",
    "import cv2\n",
    "import numpy as np\n",
    "import random\n",
    "\n",
    "from tqdm import tqdm\n",
    "from utils import (\n",
    "    overlay_image_with_blend, \n",
    "    gaussian_kernel, zip_folder)\n",
    "\n",
    "from utils.algorithms import (\n",
    "    perlin_noise, \n",
    "    generate_parallel_or_perpendicular_lines)"
   ]
  },
  {
   "cell_type": "code",
   "execution_count": 11,
   "metadata": {},
   "outputs": [],
   "source": [
    "def entre(min_val, max_val, integer=False):\n",
    "    \"\"\" Valor aleatorio entre [min_val, max_val] \"\"\"\n",
    "    if isinstance(min_val,int): return random.randint(min_val,max_val)\n",
    "    if integer: return random.randint(int(min_val),int(max_val))\n",
    "    return random.uniform(min_val,max_val)\n",
    "\n",
    "def generate_images(shape_image_base=(512, 512), gaussian_size_low=4, gaussian_size_high=40, num_lines_range=(2, 6)):\n",
    "    \"\"\"\n",
    "    Generate images with random parallel or perpendicular lines and apply Gaussian blur and Perlin noise.\n",
    "\n",
    "    Parameters:\n",
    "    shape_image_base (tuple): Base shape of the image (height, width).\n",
    "    gaussian_size_low (int): Minimum size of the Gaussian kernel.\n",
    "    gaussian_size_high (int): Maximum size of the Gaussian kernel.\n",
    "    num_lines_range (tuple): Range for the number of lines to generate (min, max).\n",
    "\n",
    "    Returns:\n",
    "    tuple: Generated images (img, img_background, img_pretil_binary, img_pretil).\n",
    "    \"\"\"\n",
    "    img = np.zeros(shape_image_base)\n",
    "    img_tmp = np.zeros(shape_image_base)\n",
    "    img_pretil = np.zeros(shape_image_base)\n",
    "    img_pretil_binary = np.zeros(shape_image_base)\n",
    "\n",
    "    # Generate between 2 and 6 parallel or perpendicular lines\n",
    "    num_lines = np.random.randint(num_lines_range[0], num_lines_range[1] + 1)\n",
    "    lines = generate_parallel_or_perpendicular_lines(shape_image_base, num_lines)\n",
    "    \n",
    "    # Overlay the lines on the image\n",
    "    for line in lines:\n",
    "        img_line = np.zeros(shape_image_base)\n",
    "        random_size = entre(gaussian_size_low, gaussian_size_high, integer=True)\n",
    "        for point in line:\n",
    "            factor = entre(0.5,1)\n",
    "            if int(random_size * factor) < 2:\n",
    "                continue\n",
    "            gaussian = gaussian_kernel(int(random_size * factor), normalize=True)\n",
    "            #print(gaussian.shape, np.max(gaussian))\n",
    "            img_line += overlay_image_with_blend(img_tmp, gaussian, position=point)\n",
    "        img_line = img_line / np.max(img_line) * entre(0.5, 2.5)   \n",
    "        img = np.maximum(img, img_line)\n",
    "    \n",
    "    img_pretil = img.copy()\n",
    "    img_pretil_binary = np.where(img >= 0.1, 1, 0)\n",
    "    img_background = 1 - img_pretil_binary  \n",
    "    img_pretil = np.clip(img_pretil, -10, 10)\n",
    "    noise = perlin_noise((512, 512, 1), octaves=(entre(0.01, 0.02), entre(0.02,0.04), entre(0.04,0.08), entre(0.08, 0.1), entre(0.1,0.2), entre(0.2,0.3), entre(0.3,1))) \n",
    "    img += noise\n",
    "    img = np.clip(img, -10, 10)\n",
    "    \n",
    "    return img, img_background, img_pretil_binary, img_pretil"
   ]
  },
  {
   "cell_type": "code",
   "execution_count": null,
   "metadata": {},
   "outputs": [
    {
     "name": "stderr",
     "output_type": "stream",
     "text": [
      " 18%|█▊        | 1782/10000 [19:57<1:17:55,  1.76it/s]"
     ]
    }
   ],
   "source": [
    "num_images = 10000\n",
    "dataset_path = 'dataset'\n",
    "\n",
    "if not os.path.exists(dataset_path):\n",
    "    os.makedirs(dataset_path)\n",
    "#else:\n",
    "#    raise FileExistsError(f'Folder {dataset_path} already exists. Please remove it before running this script.')\n",
    "\n",
    "gsd = 0.1  # Ground Sampling Distance (m/px)\n",
    "shape_image_base = (512, 512)\n",
    "pretril_size_low = np.round(0.4 / gsd)\n",
    "pretil_size_high = np.round(4 / gsd)\n",
    "\n",
    "for idx in tqdm(range(num_images)):\n",
    "    img, img_backgound, img_pretil_binary, img_pretil = generate_images(shape_image_base,pretril_size_low, pretil_size_high)\n",
    "    img_backgound = (img_backgound * 255).astype(np.uint8)\n",
    "    img_pretil_binary = (img_pretil_binary * 255).astype(np.uint8)\n",
    "    img_pretil = img_pretil.astype(np.half) \n",
    "    img = img.astype(np.half)\n",
    "\n",
    "    np.savez_compressed(f'{dataset_path}/img_{idx}.npz', img)\n",
    "    cv2.imwrite(f'{dataset_path}/img_backgound_{idx}.png', img_backgound)\n",
    "    cv2.imwrite(f'{dataset_path}/img_pretil_binary_{idx}.png', img_pretil_binary)\n",
    "    np.savez_compressed(f'{dataset_path}/img_pretil_{idx}.npz', img_pretil)\n",
    "    \n",
    "    #cv2.imwrite(f'{dataset_path}/img_pretil_{idx}.png', img_pretil)"
   ]
  },
  {
   "cell_type": "code",
   "execution_count": null,
   "metadata": {},
   "outputs": [],
   "source": [
    "zip_folder(dataset_path, f'{dataset_path}.zip')"
   ]
  },
  {
   "cell_type": "code",
   "execution_count": null,
   "metadata": {},
   "outputs": [],
   "source": [
    "import numpy as np\n",
    "import matplotlib.pyplot as plt\n",
    "\n",
    "#img = np.load('../ia/data/dataset_val/img_44.npz')['arr_0']\n",
    "img = np.load('dataset_val/img_6.npz')['arr_0']\n",
    "plt.imshow(img)"
   ]
  },
  {
   "cell_type": "code",
   "execution_count": null,
   "metadata": {},
   "outputs": [],
   "source": []
  }
 ],
 "metadata": {
  "kernelspec": {
   "display_name": "env",
   "language": "python",
   "name": "python3"
  },
  "language_info": {
   "codemirror_mode": {
    "name": "ipython",
    "version": 3
   },
   "file_extension": ".py",
   "mimetype": "text/x-python",
   "name": "python",
   "nbconvert_exporter": "python",
   "pygments_lexer": "ipython3",
   "version": "3.12.3"
  }
 },
 "nbformat": 4,
 "nbformat_minor": 2
}
