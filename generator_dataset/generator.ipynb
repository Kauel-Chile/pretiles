{
 "cells": [
  {
   "cell_type": "code",
   "execution_count": 1,
   "metadata": {},
   "outputs": [],
   "source": [
    "import os\n",
    "import cv2\n",
    "import numpy as np\n",
    "import random\n",
    "\n",
    "from tqdm import tqdm\n",
    "from utils import (\n",
    "    overlay_image_with_blend, \n",
    "    gaussian_kernel, zip_folder)\n",
    "\n",
    "from utils.algorithms import (\n",
    "    perlin_noise, \n",
    "    generate_parallel_or_perpendicular_lines,\n",
    "    generate_parallel_lines_adjacent)\n",
    "\n",
    "import matplotlib.pyplot as plt"
   ]
  },
  {
   "cell_type": "code",
   "execution_count": 2,
   "metadata": {},
   "outputs": [],
   "source": [
    "def entre(min_val, max_val, integer=False):\n",
    "    \"\"\" Generate a random value between [min_val, max_val] \"\"\"\n",
    "    if integer:\n",
    "        return random.randint(min_val, max_val)\n",
    "    return random.uniform(min_val, max_val)\n",
    "\n",
    "def generate_images(shape_image_base=(512, 512), gsd=0.25, num_lines_range=(2, 6), p=0.5):\n",
    "    \n",
    "    img = np.zeros(shape_image_base)\n",
    "    img_tmp = np.zeros(shape_image_base)\n",
    "    img_pretil = np.zeros(shape_image_base)\n",
    "    img_pretil_binary = np.zeros(shape_image_base)\n",
    "    img_zanja = np.zeros(shape_image_base)\n",
    "\n",
    "    # Generate between 2 and 6 parallel or perpendicular lines\n",
    "    num_lines = np.random.randint(num_lines_range[0], num_lines_range[1] + 1)\n",
    "    num_rand = np.random.rand()\n",
    "\n",
    "    if  num_rand < p:\n",
    "        lines = generate_parallel_or_perpendicular_lines(shape_image_base, num_lines)\n",
    "    else:\n",
    "        lines = generate_parallel_lines_adjacent(shape_image_base, gsd)\n",
    "\n",
    "    for idx, line in enumerate(lines):\n",
    "        img_line = np.zeros(shape_image_base)\n",
    "        \n",
    "        pretril_size_low = np.round(0.4 / gsd)\n",
    "        pretil_size_high = np.round(4 / gsd)\n",
    "        random_size = entre(pretril_size_low, pretil_size_high, integer=True)\n",
    "\n",
    "        for point in line:\n",
    "            factor = entre(0.5, 1)\n",
    "            gaussian_size = int(random_size * factor)\n",
    "\n",
    "            if num_rand < p:\n",
    "                gaussian = gaussian_kernel(gaussian_size, normalize=True)\n",
    "            else:\n",
    "                pretril_size_low = np.round(2.8 / gsd)\n",
    "                pretil_size_high = np.round(3.5 / gsd)\n",
    "                random_size = entre(pretril_size_low, pretil_size_high, integer=True)\n",
    "                if idx == 1:\n",
    "                    gaussian_size = int(random_size * factor)\n",
    "                    gaussian = gaussian_kernel(gaussian_size, normalize=True) * -1\n",
    "                else:\n",
    "                    pretril_size_low = np.round(0.9 / gsd)\n",
    "                    pretil_size_high = np.round(1.2 / gsd)\n",
    "                    random_size = entre(pretril_size_low, pretil_size_high, integer=True)\n",
    "                    gaussian_size = int(random_size * factor)\n",
    "                    gaussian = gaussian_kernel(entre(9,12, integer=True), normalize=True)\n",
    "\n",
    "            img_line += overlay_image_with_blend(img_tmp, gaussian, position=point)\n",
    "        \n",
    "        if num_rand < p:\n",
    "            img_line = img_line / np.max(img_line) * entre(0.5, 2.5)\n",
    "            img = np.maximum(img, img_line)\n",
    "        else:\n",
    "            if idx == 1:\n",
    "                img_line = img_line / np.min(img_line) * -entre(1, 2)\n",
    "                img += img_line\n",
    "            else:\n",
    "                img_line = img_line / np.max(img_line) * entre(0.5, 2.5)\n",
    "                img += img_line \n",
    "        \n",
    "    # Overlay the lines on the image\n",
    "    img_pretil = img.copy()\n",
    "    img_pretil_binary = np.where(img >= 0.1, 1, 0)\n",
    "    img_zanja = np.where(img <= -0.1, 1, 0)\n",
    "    img_background = 1 - img_pretil_binary - img_zanja\n",
    "    img_pretil = np.clip(img_pretil, -10, 10)\n",
    "\n",
    "    img_class = np.stack((img_background, img_pretil_binary, img_zanja), axis=-1)\n",
    "    noise = perlin_noise((512, 512, 1), octaves=(entre(0.01, 0.02), entre(0.02, 0.04), entre(0.04, 0.08), entre(0.08, 0.1), entre(0.1, 0.2), entre(0.2, 0.3), entre(0.3, 1)))\n",
    "    img += noise\n",
    "    img = np.clip(img, -10, 10)\n",
    "\n",
    "    return img, img_class, img_pretil"
   ]
  },
  {
   "cell_type": "code",
   "execution_count": 3,
   "metadata": {},
   "outputs": [
    {
     "name": "stderr",
     "output_type": "stream",
     "text": [
      "100%|██████████| 1000/1000 [05:33<00:00,  3.00it/s]\n"
     ]
    }
   ],
   "source": [
    "num_images = 1000\n",
    "dataset_path = 'dataset'\n",
    "\n",
    "if not os.path.exists(dataset_path):\n",
    "    os.makedirs(dataset_path)\n",
    "else:\n",
    "    raise FileExistsError(f'Folder {dataset_path} already exists. Please remove it before running this script.')\n",
    "\n",
    "gsd = 0.25  # Ground Sampling Distance (m/px)\n",
    "shape_image_base = (512, 512)\n",
    "\n",
    "for idx in tqdm(range(num_images)):\n",
    "    img, img_class, img_pretil = generate_images(shape_image_base, gsd)\n",
    "    img_class = (img_class * 255).astype(np.uint8)\n",
    "    img_pretil = img_pretil.astype(np.half) \n",
    "    img = img.astype(np.half)\n",
    "\n",
    "    np.savez_compressed(f'{dataset_path}/img_{idx}.npz', img)\n",
    "    cv2.imwrite(f'{dataset_path}/img_class_{idx}.png', img_class)\n",
    "    np.savez_compressed(f'{dataset_path}/img_pretil_{idx}.npz', img_pretil)\n",
    "    "
   ]
  },
  {
   "cell_type": "code",
   "execution_count": 4,
   "metadata": {},
   "outputs": [
    {
     "name": "stderr",
     "output_type": "stream",
     "text": [
      "Zipping files: 100%|██████████| 3000/3000 [00:10<00:00, 289.55file/s]\n"
     ]
    }
   ],
   "source": [
    "zip_folder(dataset_path, f'{dataset_path}.zip')"
   ]
  },
  {
   "cell_type": "code",
   "execution_count": 5,
   "metadata": {},
   "outputs": [],
   "source": [
    "# import cv2\n",
    "# idx = 9\n",
    "# img = np.load(f'dataset/img_{idx}.npz')['arr_0']\n",
    "# img_class = cv2.imread(f'dataset/img_class_{idx}.png')\n",
    "# img_pretil = np.load(f'dataset/img_pretil_{idx}.npz')['arr_0']\n",
    "\n",
    "# plt.imshow(img, cmap='grey')\n",
    "# plt.colorbar()\n",
    "# plt.show()\n",
    "# plt.imshow(img_class)\n",
    "# plt.show()\n",
    "# plt.imshow(img_pretil, cmap='grey')\n",
    "# plt.colorbar()\n",
    "# plt.show()"
   ]
  }
 ],
 "metadata": {
  "kernelspec": {
   "display_name": "env",
   "language": "python",
   "name": "python3"
  },
  "language_info": {
   "codemirror_mode": {
    "name": "ipython",
    "version": 3
   },
   "file_extension": ".py",
   "mimetype": "text/x-python",
   "name": "python",
   "nbconvert_exporter": "python",
   "pygments_lexer": "ipython3",
   "version": "3.10.12"
  }
 },
 "nbformat": 4,
 "nbformat_minor": 2
}
